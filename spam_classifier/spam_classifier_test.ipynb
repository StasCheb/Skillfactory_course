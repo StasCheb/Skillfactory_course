{
 "cells": [
  {
   "cell_type": "code",
   "execution_count": 1,
   "metadata": {},
   "outputs": [],
   "source": [
    "import re\n",
    "import numpy as np\n",
    "SPAM = 1\n",
    "NOT_SPAM = 0\n",
    "\n",
    "class Filter():\n",
    "    def __init__(self):\n",
    "        self.pA = 0\n",
    "        self.pnotA = 0\n",
    "        self.dict_spam = {}\n",
    "        self.dict_no_spam = {}\n",
    "        self.SPAM = 1\n",
    "        self.NOT_SPAM = 0\n",
    "        self.word_spam = 0\n",
    "        self.word_no_spam = 0\n",
    "        self.mail_spam = 0\n",
    "        self.no_spam = 0\n",
    "        self.spam = 0\n",
    "        \n",
    "        \n",
    "    def train(self, data):\n",
    "        for  mail, label in data:\n",
    "            self.calculate_word_frequencies(mail, label)\n",
    "            if label == SPAM:\n",
    "                self.mail_spam += 1\n",
    "        total_mail = len(data)\n",
    "        self.pA = self.mail_spam / total_mail\n",
    "        self.pnotA = 1 - self.pA\n",
    "        \n",
    "    def calculate_word_frequencies(self, body, lab):\n",
    "        for i in re.findall(r\"\\w+\",body):\n",
    "            \n",
    "            if lab == SPAM:\n",
    "                self.dict_spam[i.lower()] = self.dict_spam.get(i.lower(),0) + 1\n",
    "                self.word_spam+=1\n",
    "            else:\n",
    "                self.dict_no_spam[i.lower()] = self.dict_no_spam.get(i.lower(),0) + 1\n",
    "                self.word_no_spam+=1\n",
    "\n",
    "    def calculate_P_Bi_A(self, word, label):\n",
    "#         vocabulaty_size = len(set(self.dict_spam) | set(self.dict_no_spam)) #сглаживание, \n",
    "        if label == SPAM:\n",
    "            return (self.dict_spam.get(word,0) + 1)/self.word_spam\n",
    "#             return (self.dict_spam.get(word,0) + 1)/self.word_spam+1*vocabulaty_size\n",
    "        else:\n",
    "            return (self.dict_no_spam.get(word,0) + 1)/self.word_no_spam\n",
    "#             return (self.dict_no_spam.get(word,0) + 1)/self.word_no_spam+1*vocabulaty_size\n",
    "    \n",
    "    def calculate_P_B_A(self, text, label):\n",
    "        result = 1\n",
    "        for i in re.findall(r\"\\w+\",text):\n",
    "            result += np.log(self.calculate_P_Bi_A(i.lower(), label))\n",
    "        return result\n",
    "\n",
    "    \n",
    "    def classify(self, email):\n",
    "        self.spam = np.log(self.pA)+self.calculate_P_B_A(email, SPAM)\n",
    "        self.no_spam = np.log(self.pnotA)+self.calculate_P_B_A(email, NOT_SPAM)\n",
    "        if self.spam > self.no_spam:\n",
    "            return SPAM\n",
    "        else:\n",
    "            return NOT_SPAM"
   ]
  },
  {
   "cell_type": "code",
   "execution_count": 2,
   "metadata": {},
   "outputs": [],
   "source": [
    "import pandas as pd\n",
    "df = pd.read_csv(\"spam_or_not_spam.csv\")"
   ]
  },
  {
   "cell_type": "code",
   "execution_count": 3,
   "metadata": {},
   "outputs": [
    {
     "data": {
      "text/html": [
       "<div>\n",
       "<style scoped>\n",
       "    .dataframe tbody tr th:only-of-type {\n",
       "        vertical-align: middle;\n",
       "    }\n",
       "\n",
       "    .dataframe tbody tr th {\n",
       "        vertical-align: top;\n",
       "    }\n",
       "\n",
       "    .dataframe thead th {\n",
       "        text-align: right;\n",
       "    }\n",
       "</style>\n",
       "<table border=\"1\" class=\"dataframe\">\n",
       "  <thead>\n",
       "    <tr style=\"text-align: right;\">\n",
       "      <th></th>\n",
       "      <th>email</th>\n",
       "      <th>label</th>\n",
       "    </tr>\n",
       "  </thead>\n",
       "  <tbody>\n",
       "    <tr>\n",
       "      <th>0</th>\n",
       "      <td>date wed NUMBER aug NUMBER NUMBER NUMBER NUMB...</td>\n",
       "      <td>0</td>\n",
       "    </tr>\n",
       "    <tr>\n",
       "      <th>1</th>\n",
       "      <td>martin a posted tassos papadopoulos the greek ...</td>\n",
       "      <td>0</td>\n",
       "    </tr>\n",
       "    <tr>\n",
       "      <th>2</th>\n",
       "      <td>man threatens explosion in moscow thursday aug...</td>\n",
       "      <td>0</td>\n",
       "    </tr>\n",
       "    <tr>\n",
       "      <th>3</th>\n",
       "      <td>klez the virus that won t die already the most...</td>\n",
       "      <td>0</td>\n",
       "    </tr>\n",
       "    <tr>\n",
       "      <th>4</th>\n",
       "      <td>in adding cream to spaghetti carbonara which ...</td>\n",
       "      <td>0</td>\n",
       "    </tr>\n",
       "  </tbody>\n",
       "</table>\n",
       "</div>"
      ],
      "text/plain": [
       "                                               email  label\n",
       "0   date wed NUMBER aug NUMBER NUMBER NUMBER NUMB...      0\n",
       "1  martin a posted tassos papadopoulos the greek ...      0\n",
       "2  man threatens explosion in moscow thursday aug...      0\n",
       "3  klez the virus that won t die already the most...      0\n",
       "4   in adding cream to spaghetti carbonara which ...      0"
      ]
     },
     "execution_count": 3,
     "metadata": {},
     "output_type": "execute_result"
    }
   ],
   "source": [
    "df.head()"
   ]
  },
  {
   "cell_type": "code",
   "execution_count": 4,
   "metadata": {},
   "outputs": [],
   "source": [
    "df = df.dropna()\n",
    "df['label'] = df['label'].apply(lambda x: SPAM if x==1 else 0)\n",
    "from sklearn.model_selection import train_test_split\n",
    "X_train, X_test, y_train, y_test = train_test_split(df, df['label'], test_size=0.30, random_state=42)"
   ]
  },
  {
   "cell_type": "code",
   "execution_count": 5,
   "metadata": {},
   "outputs": [
    {
     "data": {
      "text/plain": [
       "0    0.838018\n",
       "1    0.161982\n",
       "Name: label, dtype: float64"
      ]
     },
     "execution_count": 5,
     "metadata": {},
     "output_type": "execute_result"
    }
   ],
   "source": [
    "X_train.label.value_counts(normalize=True)"
   ]
  },
  {
   "cell_type": "code",
   "execution_count": 6,
   "metadata": {},
   "outputs": [
    {
     "data": {
      "text/plain": [
       "0    0.823333\n",
       "1    0.176667\n",
       "Name: label, dtype: float64"
      ]
     },
     "execution_count": 6,
     "metadata": {},
     "output_type": "execute_result"
    }
   ],
   "source": [
    "X_test.label.value_counts(normalize=True)"
   ]
  },
  {
   "cell_type": "code",
   "execution_count": 7,
   "metadata": {},
   "outputs": [
    {
     "data": {
      "text/plain": [
       "(900, 2)"
      ]
     },
     "execution_count": 7,
     "metadata": {},
     "output_type": "execute_result"
    }
   ],
   "source": [
    "X_test.shape"
   ]
  },
  {
   "cell_type": "code",
   "execution_count": 8,
   "metadata": {},
   "outputs": [],
   "source": [
    "data_list = X_train.values.tolist()"
   ]
  },
  {
   "cell_type": "code",
   "execution_count": 9,
   "metadata": {},
   "outputs": [],
   "source": [
    "data = X_test.values.tolist()"
   ]
  },
  {
   "cell_type": "code",
   "execution_count": 10,
   "metadata": {},
   "outputs": [],
   "source": [
    "test=Filter()"
   ]
  },
  {
   "cell_type": "code",
   "execution_count": 11,
   "metadata": {},
   "outputs": [],
   "source": [
    "test.train(data_list)"
   ]
  },
  {
   "cell_type": "code",
   "execution_count": 12,
   "metadata": {},
   "outputs": [
    {
     "name": "stderr",
     "output_type": "stream",
     "text": [
      "C:\\ProgramData\\Anaconda3\\lib\\site-packages\\ipykernel_launcher.py:1: SettingWithCopyWarning: \n",
      "A value is trying to be set on a copy of a slice from a DataFrame.\n",
      "Try using .loc[row_indexer,col_indexer] = value instead\n",
      "\n",
      "See the caveats in the documentation: http://pandas.pydata.org/pandas-docs/stable/indexing.html#indexing-view-versus-copy\n",
      "  \"\"\"Entry point for launching an IPython kernel.\n"
     ]
    },
    {
     "name": "stdout",
     "output_type": "stream",
     "text": [
      "Wall time: 15.9 s\n"
     ]
    },
    {
     "name": "stderr",
     "output_type": "stream",
     "text": [
      "C:\\ProgramData\\Anaconda3\\lib\\site-packages\\ipykernel_launcher.py:2: SettingWithCopyWarning: \n",
      "A value is trying to be set on a copy of a slice from a DataFrame.\n",
      "Try using .loc[row_indexer,col_indexer] = value instead\n",
      "\n",
      "See the caveats in the documentation: http://pandas.pydata.org/pandas-docs/stable/indexing.html#indexing-view-versus-copy\n",
      "  \n"
     ]
    }
   ],
   "source": [
    "%%time\n",
    "X_train['prediction'] = X_train.apply(lambda row: test.classify(row['email']), axis=1)\n",
    "X_test['prediction'] = X_test.apply(lambda row: test.classify(row['email']), axis=1)"
   ]
  },
  {
   "cell_type": "code",
   "execution_count": 13,
   "metadata": {},
   "outputs": [
    {
     "data": {
      "text/html": [
       "<div>\n",
       "<style scoped>\n",
       "    .dataframe tbody tr th:only-of-type {\n",
       "        vertical-align: middle;\n",
       "    }\n",
       "\n",
       "    .dataframe tbody tr th {\n",
       "        vertical-align: top;\n",
       "    }\n",
       "\n",
       "    .dataframe thead th {\n",
       "        text-align: right;\n",
       "    }\n",
       "</style>\n",
       "<table border=\"1\" class=\"dataframe\">\n",
       "  <thead>\n",
       "    <tr style=\"text-align: right;\">\n",
       "      <th></th>\n",
       "      <th>email</th>\n",
       "      <th>label</th>\n",
       "      <th>prediction</th>\n",
       "    </tr>\n",
       "  </thead>\n",
       "  <tbody>\n",
       "    <tr>\n",
       "      <th>1376</th>\n",
       "      <td>on wednesday NUMBER august NUMBER NUMBER NUMBE...</td>\n",
       "      <td>0</td>\n",
       "      <td>0</td>\n",
       "    </tr>\n",
       "    <tr>\n",
       "      <th>932</th>\n",
       "      <td>on NUMBER aug NUMBER at NUMBER NUMBER rohit kh...</td>\n",
       "      <td>0</td>\n",
       "      <td>0</td>\n",
       "    </tr>\n",
       "    <tr>\n",
       "      <th>144</th>\n",
       "      <td>url URL date NUMBER NUMBER NUMBERtNUMBER NUMBE...</td>\n",
       "      <td>0</td>\n",
       "      <td>0</td>\n",
       "    </tr>\n",
       "    <tr>\n",
       "      <th>1752</th>\n",
       "      <td>on NUMBER september NUMBER tim peters said why...</td>\n",
       "      <td>0</td>\n",
       "      <td>0</td>\n",
       "    </tr>\n",
       "    <tr>\n",
       "      <th>51</th>\n",
       "      <td>begin pgp signed message justin maccarthy wro...</td>\n",
       "      <td>0</td>\n",
       "      <td>0</td>\n",
       "    </tr>\n",
       "  </tbody>\n",
       "</table>\n",
       "</div>"
      ],
      "text/plain": [
       "                                                  email  label  prediction\n",
       "1376  on wednesday NUMBER august NUMBER NUMBER NUMBE...      0           0\n",
       "932   on NUMBER aug NUMBER at NUMBER NUMBER rohit kh...      0           0\n",
       "144   url URL date NUMBER NUMBER NUMBERtNUMBER NUMBE...      0           0\n",
       "1752  on NUMBER september NUMBER tim peters said why...      0           0\n",
       "51     begin pgp signed message justin maccarthy wro...      0           0"
      ]
     },
     "execution_count": 13,
     "metadata": {},
     "output_type": "execute_result"
    }
   ],
   "source": [
    "X_test.head()"
   ]
  },
  {
   "cell_type": "code",
   "execution_count": 14,
   "metadata": {
    "scrolled": true
   },
   "outputs": [
    {
     "name": "stdout",
     "output_type": "stream",
     "text": [
      "f1_score of model prediction: 0.9483282674772036\n"
     ]
    }
   ],
   "source": [
    "from sklearn.metrics import f1_score\n",
    "score = f1_score(X_test['label'], X_test['prediction'])\n",
    "print('f1_score of model prediction:', score)"
   ]
  },
  {
   "cell_type": "code",
   "execution_count": 15,
   "metadata": {},
   "outputs": [
    {
     "name": "stdout",
     "output_type": "stream",
     "text": [
      "[[727  14]\n",
      " [  3 156]]\n"
     ]
    }
   ],
   "source": [
    "from sklearn.metrics import confusion_matrix\n",
    "score = confusion_matrix(X_test['label'], X_test['prediction'])\n",
    "print(score)"
   ]
  }
 ],
 "metadata": {
  "kernelspec": {
   "display_name": "Python 3",
   "language": "python",
   "name": "python3"
  },
  "language_info": {
   "codemirror_mode": {
    "name": "ipython",
    "version": 3
   },
   "file_extension": ".py",
   "mimetype": "text/x-python",
   "name": "python",
   "nbconvert_exporter": "python",
   "pygments_lexer": "ipython3",
   "version": "3.7.3"
  }
 },
 "nbformat": 4,
 "nbformat_minor": 2
}
